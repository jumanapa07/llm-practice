{
 "cells": [
  {
   "cell_type": "code",
   "execution_count": 14,
   "id": "e6b9fe06-efb0-4a79-be69-dd28040a8f77",
   "metadata": {},
   "outputs": [
    {
     "name": "stdout",
     "output_type": "stream",
     "text": [
      "Requirement already satisfied: tavily-python in c:\\users\\jumanapa\\anaconda3\\envs\\llms\\lib\\site-packages (0.5.0)\n",
      "Requirement already satisfied: requests in c:\\users\\jumanapa\\anaconda3\\envs\\llms\\lib\\site-packages (from tavily-python) (2.32.3)\n",
      "Requirement already satisfied: tiktoken>=0.5.1 in c:\\users\\jumanapa\\anaconda3\\envs\\llms\\lib\\site-packages (from tavily-python) (0.8.0)\n",
      "Requirement already satisfied: httpx in c:\\users\\jumanapa\\anaconda3\\envs\\llms\\lib\\site-packages (from tavily-python) (0.27.2)\n",
      "Requirement already satisfied: regex>=2022.1.18 in c:\\users\\jumanapa\\anaconda3\\envs\\llms\\lib\\site-packages (from tiktoken>=0.5.1->tavily-python) (2024.11.6)\n",
      "Requirement already satisfied: charset_normalizer<4,>=2 in c:\\users\\jumanapa\\anaconda3\\envs\\llms\\lib\\site-packages (from requests->tavily-python) (3.4.1)\n",
      "Requirement already satisfied: idna<4,>=2.5 in c:\\users\\jumanapa\\anaconda3\\envs\\llms\\lib\\site-packages (from requests->tavily-python) (3.10)\n",
      "Requirement already satisfied: urllib3<3,>=1.21.1 in c:\\users\\jumanapa\\anaconda3\\envs\\llms\\lib\\site-packages (from requests->tavily-python) (2.3.0)\n",
      "Requirement already satisfied: certifi>=2017.4.17 in c:\\users\\jumanapa\\anaconda3\\envs\\llms\\lib\\site-packages (from requests->tavily-python) (2024.12.14)\n",
      "Requirement already satisfied: anyio in c:\\users\\jumanapa\\anaconda3\\envs\\llms\\lib\\site-packages (from httpx->tavily-python) (4.8.0)\n",
      "Requirement already satisfied: httpcore==1.* in c:\\users\\jumanapa\\anaconda3\\envs\\llms\\lib\\site-packages (from httpx->tavily-python) (1.0.7)\n",
      "Requirement already satisfied: sniffio in c:\\users\\jumanapa\\anaconda3\\envs\\llms\\lib\\site-packages (from httpx->tavily-python) (1.3.1)\n",
      "Requirement already satisfied: h11<0.15,>=0.13 in c:\\users\\jumanapa\\anaconda3\\envs\\llms\\lib\\site-packages (from httpcore==1.*->httpx->tavily-python) (0.14.0)\n",
      "Requirement already satisfied: typing_extensions>=4.5 in c:\\users\\jumanapa\\anaconda3\\envs\\llms\\lib\\site-packages (from anyio->httpx->tavily-python) (4.12.2)\n",
      "Note: you may need to restart the kernel to use updated packages.\n"
     ]
    }
   ],
   "source": [
    "pip install --upgrade tavily-python"
   ]
  },
  {
   "cell_type": "code",
   "execution_count": 1,
   "id": "5d97f899-a3c9-47c5-abd8-af8f09b93780",
   "metadata": {},
   "outputs": [],
   "source": [
    "from langgraph.graph import StateGraph, END\n",
    "from typing import TypedDict, Annotated , List\n",
    "import operator,os\n",
    "from langchain_core.messages import AnyMessage, SystemMessage, HumanMessage, ToolMessage\n",
    "from langchain_openai import ChatOpenAI\n",
    "from tavily import TavilyClient\n",
    "from dotenv import load_dotenv\n",
    "from contextlib import ExitStack"
   ]
  },
  {
   "cell_type": "code",
   "execution_count": 2,
   "id": "3005799a-67d8-487b-b305-a25022ef5489",
   "metadata": {},
   "outputs": [],
   "source": [
    "load_dotenv(override = True)\n",
    "api_key=os.getenv('OPENAI_API_KEY')"
   ]
  },
  {
   "cell_type": "code",
   "execution_count": 3,
   "id": "548ed5e9-d470-4743-8c9c-77003df684ff",
   "metadata": {},
   "outputs": [],
   "source": [
    "from langgraph.checkpoint.sqlite import SqliteSaver\n",
    "\n",
    "stack = ExitStack()\n",
    "memory = stack.enter_context(SqliteSaver.from_conn_string(\":memory:\"))"
   ]
  },
  {
   "cell_type": "code",
   "execution_count": 4,
   "id": "2b7f3178-7842-4d79-86cb-07eeebae2bfc",
   "metadata": {},
   "outputs": [],
   "source": [
    "from langchain_openai import ChatOpenAI\n",
    "model = ChatOpenAI(model=\"gpt-3.5-turbo\", temperature=0)"
   ]
  },
  {
   "cell_type": "code",
   "execution_count": 5,
   "id": "016c3363-d54a-4baf-aadf-5f1d9b7f4a85",
   "metadata": {},
   "outputs": [],
   "source": [
    "PLAN_PROMPT = \"\"\"You are an expert writer tasked with writing a high level outline of an essay. \\\n",
    "Write such an outline for the user provided topic. Give an outline of the essay along with any relevant notes \\\n",
    "or instructions for the sections.\"\"\""
   ]
  },
  {
   "cell_type": "code",
   "execution_count": 6,
   "id": "5a85dced-52ab-42d3-b18d-faf26a1119b3",
   "metadata": {},
   "outputs": [],
   "source": [
    "WRITER_PROMPT = \"\"\"You are an essay assistant tasked with writing excellent 5-paragraph essays.\\\n",
    "Generate the best essay possible for the user's request and the initial outline. \\\n",
    "If the user provides critique, respond with a revised version of your previous attempts. \\\n",
    "Utilize all the information below as needed: \n",
    "\n",
    "------\n",
    "\n",
    "{content}\"\"\""
   ]
  },
  {
   "cell_type": "code",
   "execution_count": 7,
   "id": "7f2f108d-f950-46e3-8cf9-0a99fe31afaf",
   "metadata": {},
   "outputs": [],
   "source": [
    "REFLECTION_PROMPT = \"\"\"You are a teacher grading an essay submission. \\\n",
    "Generate critique and recommendations for the user's submission. \\\n",
    "Provide detailed recommendations, including requests for length, depth, style, etc.\"\"\""
   ]
  },
  {
   "cell_type": "code",
   "execution_count": 8,
   "id": "ae9f4caa-a43a-4ed7-80ab-48a71f1b1ac0",
   "metadata": {},
   "outputs": [],
   "source": [
    "RESEARCH_PLAN_PROMPT = \"\"\"You are a researcher charged with providing information that can \\\n",
    "be used when writing the following essay. Generate a list of search queries that will gather \\\n",
    "any relevant information. Only generate 3 queries max.\"\"\"\n"
   ]
  },
  {
   "cell_type": "code",
   "execution_count": 9,
   "id": "f0eabb8e-30b5-4764-9e56-26495978c069",
   "metadata": {},
   "outputs": [],
   "source": [
    "RESEARCH_CRITIQUE_PROMPT = \"\"\"You are a researcher charged with providing information that can \\\n",
    "be used when making any requested revisions (as outlined below). \\\n",
    "Generate a list of search queries that will gather any relevant information. Only generate 3 queries max.\"\"\"\n"
   ]
  },
  {
   "cell_type": "code",
   "execution_count": 10,
   "id": "2afba41c-f3b2-40b0-99c5-a0b435bd0021",
   "metadata": {},
   "outputs": [
    {
     "name": "stderr",
     "output_type": "stream",
     "text": [
      "C:\\Users\\Jumanapa\\anaconda3\\envs\\llms\\Lib\\site-packages\\IPython\\core\\interactiveshell.py:3577: LangChainDeprecationWarning: As of langchain-core 0.3.0, LangChain uses pydantic v2 internally. The langchain_core.pydantic_v1 module was a compatibility shim for pydantic v1, and should no longer be used. Please update the code to import from Pydantic directly.\n",
      "\n",
      "For example, replace imports like: `from langchain_core.pydantic_v1 import BaseModel`\n",
      "with: `from pydantic import BaseModel`\n",
      "or the v1 compatibility namespace if you are working in a code base that has not been fully upgraded to pydantic 2 yet. \tfrom pydantic.v1 import BaseModel\n",
      "\n",
      "  exec(code_obj, self.user_global_ns, self.user_ns)\n"
     ]
    }
   ],
   "source": [
    "from langchain_core.pydantic_v1 import BaseModel\n",
    "\n",
    "class Queries(BaseModel):\n",
    "    queries : List[str]"
   ]
  },
  {
   "cell_type": "code",
   "execution_count": 11,
   "id": "dda1e2bf-7459-462b-91d2-5d2b68580e62",
   "metadata": {},
   "outputs": [],
   "source": [
    "tavily = TavilyClient(api_key=os.environ[\"TAVILY_API_KEY\"])"
   ]
  },
  {
   "cell_type": "code",
   "execution_count": 12,
   "id": "db087868-383d-4628-a617-0ca8cf8bc6c2",
   "metadata": {},
   "outputs": [],
   "source": [
    "class AgentState(TypedDict):\n",
    "    task : str\n",
    "    plan : str\n",
    "    content : Annotated[List[str] , operator.add]\n",
    "    draft : str\n",
    "    critique : str\n",
    "    revision_number : int\n",
    "    max_revisions : int"
   ]
  },
  {
   "cell_type": "code",
   "execution_count": 13,
   "id": "a465fe28-b5c1-4d2f-9845-808bd37f521c",
   "metadata": {},
   "outputs": [],
   "source": [
    "def plan_node(state:AgentState):\n",
    "    messages = [\n",
    "        SystemMessage(content = PLAN_PROMPT),\n",
    "        HumanMessage(content = state['task'])\n",
    "    ]\n",
    "    response = model.invoke(messages)\n",
    "    return {\"plan\":response}"
   ]
  },
  {
   "cell_type": "code",
   "execution_count": 14,
   "id": "4e400ee3-5c71-41aa-8486-43ac8079f032",
   "metadata": {},
   "outputs": [],
   "source": [
    "def research_plan_node(state :AgentState):\n",
    "    messages = [\n",
    "        SystemMessage(content = RESEARCH_PLAN_PROMPT),\n",
    "        HumanMessage(content = state['task'])\n",
    "    ]\n",
    "    queries = model.with_structured_output(Queries).invoke(messages)\n",
    "    content = state['content'] or []\n",
    "    for q in queries.queries:\n",
    "        response = tavily.search(query=q,max_results=2)\n",
    "        for r in response['results']:\n",
    "            content.append(r['content'])\n",
    "    return {\"content\":content}"
   ]
  },
  {
   "cell_type": "code",
   "execution_count": 15,
   "id": "4e55a8b0-d4cf-4cbb-be24-fd0ffd276f80",
   "metadata": {},
   "outputs": [],
   "source": [
    "def generate_node(state : AgentState):\n",
    "    content = state['content'] or []\n",
    "    usermessage = HumanMessage(content = f\"Here is my task : {state['task']} \\n\\n Here is my plan : {state['plan']}\")\n",
    "    messages = [\n",
    "        SystemMessage(content = WRITER_PROMPT),\n",
    "        usermessage\n",
    "    ]\n",
    "    response = model.invoke(messages)\n",
    "    return {\"draft\" : response.content,\"revision_number\":state.get('revision_number',1)+1}\n",
    "    "
   ]
  },
  {
   "cell_type": "code",
   "execution_count": 16,
   "id": "a4f8fc85-ab0d-43f9-9b21-bc744a354f4c",
   "metadata": {},
   "outputs": [],
   "source": [
    "def generate_critique_node(state:AgentState):\n",
    "    messages = [\n",
    "        SystemMessage(content = REFLECTION_PROMPT),\n",
    "        HumanMessage(content = state['draft'])\n",
    "    ]\n",
    "    critique = model.invoke(messages)\n",
    "    return {\"critique\":critique.content}"
   ]
  },
  {
   "cell_type": "code",
   "execution_count": 17,
   "id": "6eebd08e-d36f-4d72-8262-5adfd439019d",
   "metadata": {},
   "outputs": [],
   "source": [
    "def research_critique_node(state:AgentState):\n",
    "    content = state['content'] or []\n",
    "    messages =[\n",
    "        SystemMessage(content = RESEARCH_CRITIQUE_PROMPT),\n",
    "        HumanMessage(content = state['critique'])\n",
    "    ]\n",
    "    queries = model.with_structured_output(Queries).invoke(messages)\n",
    "    for q in queries.queries:\n",
    "        response = tavily.search(query = q,max_results = 2)\n",
    "        for r in response['results']:\n",
    "            content.append(r['content'])\n",
    "    return {\"content\":content}"
   ]
  },
  {
   "cell_type": "code",
   "execution_count": 18,
   "id": "f775a0c4-c5aa-41f0-860f-b3c3a23af2c3",
   "metadata": {},
   "outputs": [],
   "source": [
    "def reach_maximum_revision(state:AgentState):\n",
    "    return state['revision_number'] > state['max_revisions']"
   ]
  },
  {
   "cell_type": "code",
   "execution_count": 19,
   "id": "0099e162-71bd-43a8-a8e4-fbc22058cffe",
   "metadata": {},
   "outputs": [],
   "source": [
    "builder = StateGraph(AgentState)"
   ]
  },
  {
   "cell_type": "code",
   "execution_count": 20,
   "id": "17538e5d-c492-4b5c-99e2-fe2392cfa28c",
   "metadata": {},
   "outputs": [
    {
     "data": {
      "text/plain": [
       "<langgraph.graph.state.StateGraph at 0x246b61567d0>"
      ]
     },
     "execution_count": 20,
     "metadata": {},
     "output_type": "execute_result"
    }
   ],
   "source": [
    "builder.add_node(\"planning\",plan_node)\n",
    "builder.add_node(\"research_plan\",research_plan_node)\n",
    "builder.add_node(\"generate\",generate_node)\n",
    "builder.add_node(\"reflect\",generate_critique_node)\n",
    "builder.add_node(\"research_critique\",research_critique_node)\n",
    "builder.add_conditional_edges(\"generate\",reach_maximum_revision,{True : END,False:\"reflect\"})"
   ]
  },
  {
   "cell_type": "code",
   "execution_count": 21,
   "id": "f0210232-9370-4cbd-b96a-083e2013f361",
   "metadata": {},
   "outputs": [
    {
     "data": {
      "text/plain": [
       "<langgraph.graph.state.StateGraph at 0x246b61567d0>"
      ]
     },
     "execution_count": 21,
     "metadata": {},
     "output_type": "execute_result"
    }
   ],
   "source": [
    "builder.add_edge(\"planning\",\"research_plan\")\n",
    "builder.add_edge(\"research_plan\",\"generate\")\n",
    "builder.add_edge(\"reflect\",\"research_critique\")\n",
    "builder.add_edge(\"research_critique\",\"generate\")\n"
   ]
  },
  {
   "cell_type": "code",
   "execution_count": 22,
   "id": "d50dfe16-ab2a-4ebe-8c3f-a68754332295",
   "metadata": {},
   "outputs": [
    {
     "data": {
      "text/plain": [
       "<langgraph.graph.state.StateGraph at 0x246b61567d0>"
      ]
     },
     "execution_count": 22,
     "metadata": {},
     "output_type": "execute_result"
    }
   ],
   "source": [
    "builder.set_entry_point(\"planning\")"
   ]
  },
  {
   "cell_type": "code",
   "execution_count": 23,
   "id": "b1e57ca7-f684-4c6c-b8c7-3919eeed02ce",
   "metadata": {},
   "outputs": [],
   "source": [
    "graph = builder.compile(checkpointer = memory)"
   ]
  },
  {
   "cell_type": "code",
   "execution_count": 24,
   "id": "41d95f31-e7b5-4dbe-8332-abd18ed006cf",
   "metadata": {},
   "outputs": [
    {
     "name": "stdout",
     "output_type": "stream",
     "text": [
      "{'planning': {'plan': AIMessage(content='I. Introduction\\n    A. Brief overview of Langchain and Langsmith\\n    B. Thesis statement: Exploring the differences between Langchain and Langsmith\\n\\nII. Langchain\\n    A. Definition and purpose\\n    B. Key features and characteristics\\n    C. Use cases and applications\\n    D. Advantages and limitations\\n\\nIII. Langsmith\\n    A. Definition and purpose\\n    B. Key features and characteristics\\n    C. Use cases and applications\\n    D. Advantages and limitations\\n\\nIV. Comparison between Langchain and Langsmith\\n    A. Technology stack\\n    B. Scalability and performance\\n    C. Security and privacy\\n    D. Adoption and popularity\\n    E. Future prospects\\n\\nV. Conclusion\\n    A. Recap of key differences between Langchain and Langsmith\\n    B. Implications for the future of blockchain technology\\n    C. Final thoughts and recommendations\\n\\nNotes:\\n- Ensure to provide clear definitions and examples for both Langchain and Langsmith.\\n- Include real-world use cases to illustrate the practical applications of each technology.\\n- Use data and statistics to support the comparison between Langchain and Langsmith.\\n- Conclude with insights on the potential impact of these technologies on the blockchain industry.', additional_kwargs={'refusal': None}, response_metadata={'token_usage': {'completion_tokens': 254, 'prompt_tokens': 64, 'total_tokens': 318, 'completion_tokens_details': {'accepted_prediction_tokens': 0, 'audio_tokens': 0, 'reasoning_tokens': 0, 'rejected_prediction_tokens': 0}, 'prompt_tokens_details': {'audio_tokens': 0, 'cached_tokens': 0}}, 'model_name': 'gpt-3.5-turbo-0125', 'system_fingerprint': None, 'finish_reason': 'stop', 'logprobs': None}, id='run-3eeab98d-21b3-40b8-ad28-b14025741cef-0', usage_metadata={'input_tokens': 64, 'output_tokens': 254, 'total_tokens': 318, 'input_token_details': {'audio': 0, 'cache_read': 0}, 'output_token_details': {'audio': 0, 'reasoning': 0}})}}\n",
      "--------------------------------\n",
      "{'research_plan': {'content': ['Here’s the deal: LangChain is like building the entire car, while LangSmith is your diagnostic tool to ensure that car runs smoothly. When it comes to practical application, I always say: “Show, don’t tell.” I’ve used both LangChain and LangSmith extensively, and I’ve found that they complement each other beautifully when you’re building and fine-tuning LLM-based workflows. Having spent countless hours building and debugging LLM-based systems, I’ve learned that using LangChain and LangSmith effectively requires a few smart strategies. I often use LangChain to build my pipelines and LangSmith to monitor and debug them. Start with LangChain to build your pipeline, and then bring in LangSmith to ensure it performs as expected.', 'If you’re responsible for ensuring your AI models work in production, or you need to frequently debug and monitor your pipelines, Langsmith is your go-to tool. In short, while Langchain excels at managing and scaling model workflows, Langsmith is designed for those times when you need deep visibility and control over large, complex AI systems in production. But if you’re managing a complex AI pipeline with multiple models that need debugging and orchestrating, Langsmith’s capabilities become essential. If you’re debugging complex AI models or managing large-scale workflows with multiple moving parts, Langsmith’s advanced debugging and orchestration features will be indispensable. Additionally, if you’re working on cross-platform model deployments — say, running models on-prem and in the cloud simultaneously — Langsmith offers better orchestration and monitoring tools to handle the complexity.', 'Data Structures and Algorithms\\nML & Data Science\\nWeb Development\\nLanguages\\nInterview Corner\\nCS Subjects\\nJobs\\nPractice\\nContests\\nIntroduction to Langchain\\nLangChain is an open-source framework designed to simplify the creation of applications using large language models (LLMs). LangChain follows a general pipeline where a user asks a question to the language model where the vector representation of the question is used to do a similarity search in the vector database and the relevant information is fetched from the vector database and the response is later fed to the language model. LangChain Key Concepts:\\nThe main properties of LangChain Framework are :\\nSetting up the environment\\nInstallation of langchain is very simple and similar as you install other libraries using the pip command.\\n Next, we create a .env file and store our API key in it as follows:\\nPython\\nNow, I am creating a new file named ‘lang.py’ where I will be using the LangChain framework to generate responses. We start by importing long-chain and initializing an LLM as follows:\\nPython\\nWe are initializing it with a high temperature which means that the results will be random and less accurate.', \"How to use tools in a chain How to migrate from legacy LangChain agents to LangGraph How to use chat models to call tools LangChain is a framework for developing applications powered by large language models (LLMs). Development: Build your applications using LangChain's open-source building blocks, components, and third-party integrations. langchain: Chains, agents, and retrieval strategies that make up an application's cognitive architecture. LangServe: Deploy LangChain chains as REST APIs. LangSmith: A developer platform that lets you debug, test, evaluate, and monitor LLM applications. Build stateful, multi-actor applications with LLMs. Integrates smoothly with LangChain, but can be used without it. LangChain is part of a rich ecosystem of tools that integrate with our framework and build on top of it.\", 'Overview of LangSmith. LangSmith logs all calls to LLMs, chains, agents, tools, and retrievers in a LangChain or other LLM program. It can help you debug an unexpected end result, determine why an', 'ClickHouse . ClickHouse is a high-performance, column-oriented SQL database management system (DBMS) for online analytical processing (OLAP).. LangSmith uses ClickHouse as the primary data store for traces and feedback (high-volume data). PostgreSQL . PostgreSQL is a powerful, open source object-relational database system that uses and extends the SQL language combined with many features that']}}\n",
      "--------------------------------\n",
      "{'generate': {'draft': \"**Title: A Comparative Analysis of Langchain and Langsmith in Blockchain Technology**\\n\\nI. Introduction\\nA. Brief overview of Langchain and Langsmith\\nB. Thesis statement: Exploring the differences between Langchain and Langsmith\\n\\nII. Langchain\\nA. Definition and purpose\\nB. Key features and characteristics\\nC. Use cases and applications\\nD. Advantages and limitations\\n\\nIII. Langsmith\\nA. Definition and purpose\\nB. Key features and characteristics\\nC. Use cases and applications\\nD. Advantages and limitations\\n\\nIV. Comparison between Langchain and Langsmith\\nA. Technology stack\\nB. Scalability and performance\\nC. Security and privacy\\nD. Adoption and popularity\\nE. Future prospects\\n\\nV. Conclusion\\nA. Recap of key differences between Langchain and Langsmith\\nB. Implications for the future of blockchain technology\\nC. Final thoughts and recommendations\\n\\n**Essay:**\\n\\nBlockchain technology has seen significant advancements with the emergence of innovative platforms like Langchain and Langsmith. Langchain is designed to revolutionize the way smart contracts are executed, while Langsmith focuses on enhancing the security and efficiency of blockchain networks. This essay delves into the distinctions between Langchain and Langsmith, shedding light on their unique features and potential impact on the blockchain industry.\\n\\nLangchain, a cutting-edge platform, is primarily aimed at streamlining the execution of smart contracts within blockchain networks. Its key features include a user-friendly interface, robust security protocols, and seamless integration with existing blockchain infrastructures. One of Langchain's notable advantages is its ability to automate contract execution, reducing the need for manual intervention and minimizing the risk of errors. However, its limitations lie in the complexity of implementing custom contracts and the learning curve associated with its unique programming language.\\n\\nOn the other hand, Langsmith is a security-focused platform that prioritizes the protection of blockchain networks from potential threats and vulnerabilities. With advanced encryption algorithms and decentralized storage mechanisms, Langsmith ensures the integrity and confidentiality of data stored on the blockchain. Its key characteristics include real-time threat detection, secure data sharing capabilities, and seamless integration with various blockchain frameworks. While Langsmith offers unparalleled security features, its limitations may include higher resource requirements and potential compatibility issues with certain blockchain platforms.\\n\\nWhen comparing Langchain and Langsmith, several factors come into play. In terms of technology stack, Langchain emphasizes smart contract automation, whereas Langsmith focuses on security protocols and threat mitigation strategies. Regarding scalability and performance, Langchain may offer faster contract execution times, while Langsmith prioritizes data integrity and network reliability. Security and privacy are paramount for both platforms, with Langsmith excelling in data protection measures, while Langchain focuses on contract security and execution efficiency. In the realm of adoption and popularity, Langchain may appeal to developers seeking streamlined contract execution, while Langsmith could be favored by organizations prioritizing data security and compliance. Looking towards the future, both Langchain and Langsmith have the potential to shape the evolution of blockchain technology, with Langchain driving efficiency and automation, and Langsmith fortifying the security infrastructure of blockchain networks.\\n\\nIn conclusion, the differences between Langchain and Langsmith underscore the diverse applications and capabilities of blockchain technology. While Langchain enhances smart contract execution and automation, Langsmith fortifies the security and integrity of blockchain networks. The future implications of these technologies are promising, with Langchain and Langsmith poised to redefine the standards of efficiency and security in the blockchain industry. As blockchain technology continues to evolve, the distinct contributions of Langchain and Langsmith are set to play a pivotal role in shaping the future landscape of decentralized systems.\", 'revision_number': 2}}\n",
      "--------------------------------\n",
      "{'reflect': {'critique': \"**Critique:**\\n\\nThe essay provides a comprehensive overview of Langchain and Langsmith, highlighting their key features, advantages, limitations, and potential impact on the blockchain industry. The structure of the essay is well-organized, with clear sections dedicated to each platform, followed by a comparative analysis and a conclusion summarizing the key differences and future prospects.\\n\\n**Recommendations:**\\n\\n1. **Depth and Analysis:** While the essay covers the basic aspects of Langchain and Langsmith, it would benefit from a deeper analysis of their technical components, such as the specific programming languages used, consensus mechanisms, governance models, and interoperability with other blockchain networks. Providing more technical details would enhance the reader's understanding of the platforms and their functionalities.\\n\\n2. **Real-world Examples:** Incorporating real-world use cases and case studies where Langchain and Langsmith have been implemented successfully would add credibility to the essay. This could include examples of industries or organizations that have adopted these platforms and the outcomes they have achieved.\\n\\n3. **Critical Evaluation:** To strengthen the analysis, consider including a critical evaluation of the advantages and limitations of Langchain and Langsmith. Discussing potential challenges they may face in terms of regulatory compliance, scalability issues, community adoption, or competition from other blockchain platforms would provide a more nuanced perspective.\\n\\n4. **Future Trends:** While the essay briefly touches on the future prospects of Langchain and Langsmith, expanding on potential trends in blockchain technology, such as the integration of artificial intelligence, Internet of Things (IoT), or decentralized finance (DeFi), could offer valuable insights into how these platforms might evolve in the coming years.\\n\\n5. **Conclusion:** The conclusion could be enhanced by providing specific recommendations for developers, organizations, or policymakers on how to leverage the unique strengths of Langchain and Langsmith. Additionally, discussing the implications of these platforms on broader issues like data privacy, financial inclusion, or supply chain transparency would add depth to the conclusion.\\n\\n6. **Length and Detail:** Consider expanding on each section to provide more detailed explanations of Langchain and Langsmith's features, use cases, advantages, and limitations. This will help create a more comprehensive and informative essay that thoroughly explores the differences between the two platforms.\\n\\nBy incorporating these recommendations, you can enrich the essay with more in-depth analysis, real-world examples, critical evaluation, future trends, specific recommendations, and additional details to enhance the reader's understanding of Langchain and Langsmith in the context of blockchain technology.\"}}\n",
      "--------------------------------\n",
      "{'research_critique': {'content': ['Here’s the deal: LangChain is like building the entire car, while LangSmith is your diagnostic tool to ensure that car runs smoothly. When it comes to practical application, I always say: “Show, don’t tell.” I’ve used both LangChain and LangSmith extensively, and I’ve found that they complement each other beautifully when you’re building and fine-tuning LLM-based workflows. Having spent countless hours building and debugging LLM-based systems, I’ve learned that using LangChain and LangSmith effectively requires a few smart strategies. I often use LangChain to build my pipelines and LangSmith to monitor and debug them. Start with LangChain to build your pipeline, and then bring in LangSmith to ensure it performs as expected.', 'If you’re responsible for ensuring your AI models work in production, or you need to frequently debug and monitor your pipelines, Langsmith is your go-to tool. In short, while Langchain excels at managing and scaling model workflows, Langsmith is designed for those times when you need deep visibility and control over large, complex AI systems in production. But if you’re managing a complex AI pipeline with multiple models that need debugging and orchestrating, Langsmith’s capabilities become essential. If you’re debugging complex AI models or managing large-scale workflows with multiple moving parts, Langsmith’s advanced debugging and orchestration features will be indispensable. Additionally, if you’re working on cross-platform model deployments — say, running models on-prem and in the cloud simultaneously — Langsmith offers better orchestration and monitoring tools to handle the complexity.', 'Data Structures and Algorithms\\nML & Data Science\\nWeb Development\\nLanguages\\nInterview Corner\\nCS Subjects\\nJobs\\nPractice\\nContests\\nIntroduction to Langchain\\nLangChain is an open-source framework designed to simplify the creation of applications using large language models (LLMs). LangChain follows a general pipeline where a user asks a question to the language model where the vector representation of the question is used to do a similarity search in the vector database and the relevant information is fetched from the vector database and the response is later fed to the language model. LangChain Key Concepts:\\nThe main properties of LangChain Framework are :\\nSetting up the environment\\nInstallation of langchain is very simple and similar as you install other libraries using the pip command.\\n Next, we create a .env file and store our API key in it as follows:\\nPython\\nNow, I am creating a new file named ‘lang.py’ where I will be using the LangChain framework to generate responses. We start by importing long-chain and initializing an LLM as follows:\\nPython\\nWe are initializing it with a high temperature which means that the results will be random and less accurate.', \"How to use tools in a chain How to migrate from legacy LangChain agents to LangGraph How to use chat models to call tools LangChain is a framework for developing applications powered by large language models (LLMs). Development: Build your applications using LangChain's open-source building blocks, components, and third-party integrations. langchain: Chains, agents, and retrieval strategies that make up an application's cognitive architecture. LangServe: Deploy LangChain chains as REST APIs. LangSmith: A developer platform that lets you debug, test, evaluate, and monitor LLM applications. Build stateful, multi-actor applications with LLMs. Integrates smoothly with LangChain, but can be used without it. LangChain is part of a rich ecosystem of tools that integrate with our framework and build on top of it.\", 'Overview of LangSmith. LangSmith logs all calls to LLMs, chains, agents, tools, and retrievers in a LangChain or other LLM program. It can help you debug an unexpected end result, determine why an', 'ClickHouse . ClickHouse is a high-performance, column-oriented SQL database management system (DBMS) for online analytical processing (OLAP).. LangSmith uses ClickHouse as the primary data store for traces and feedback (high-volume data). PostgreSQL . PostgreSQL is a powerful, open source object-relational database system that uses and extends the SQL language combined with many features that', \"Components of LangChain. LangChain is a framework designed to build applications that utilize language models. Here are the key components of LangChain, organized as per your request: 1. Schema. LangChain's schema establishes the data structures and formats that are utilized by programs, guaranteeing interoperability and consistency among\", 'Mastering LangChain: A Comprehensive Guide to Key Concepts and Components | by Arpit Singhal | Oct, 2024 | Medium LCEL is a declarative way to compose chains and other components in LangChain. from langchain.prompts import ChatPromptTemplate from langchain.llms import OpenAI   from langchain.chains import SimpleSequentialChain from langchain.llms import OpenAI from langchain.prompts import PromptTemplate   from langchain.memory import ConversationBufferMemory from langchain.llms import OpenAI from langchain.chains import ConversationChain   from langchain.agents import load_tools from langchain.agents import initialize_agent from langchain.agents import AgentType from langchain.llms import OpenAI   from langchain.embeddings.openai import OpenAIEmbeddings from langchain.llms import OpenAI from langchain.chains import RetrievalQA   By understanding and leveraging LCEL, Runnables, Chains, Memory, Agents, and Retrievers, you can create flexible, powerful, and context-aware systems that harness the full potential of large language models.', \"Use Cases. The following guides are provided to serve as example use cases for how you can use LangSmith's production logging and automations. These are not meant to be exhaustive, nor are they optimized for your use case. They are meant as a reference to help you get started. Add bad datapoints to an annotation queue\", \"However, the journey from prototype to production can be a challenging one. Enter LangSmith and LangChain, two platforms designed to streamline the development of LLM-powered applications. In this blog post, we'll explore some of the unique use-cases that can be created using these innovative tools. 1. Intelligent Agents for Data Analysis\", \"This dataset type is ideal for evaluating chains and agents that require multiple inputs or generate multiple outputs. For example, if you have a RAG application, you may want your dataset splits to focus on different types of questions (e.g., factual, opinion, etc) and to evaluate your application on each split separately. Evaluators are functions that score how well your application performs on each example in your dataset. One common way to use these datasets is offline evaluation, which is usually conducted prior to deployment of your LLM application. In order to account for this, another evaluation technique is to pass the full agent's trajectory (along with a reference trajectory) as a set of messages (e.g., all LLM responses and tool calls) an LLM-as-judge.\", 'Human Annotation. While LangSmith has many options for automatic evaluation, sometimes you need a human touch. LangSmith speeds up the human labeler workflow significantly by supporting a feedback config and queue of traces that users can easily work through by annotating application responses with scores.']}}\n",
      "--------------------------------\n",
      "{'generate': {'draft': \"**Title: A Comparative Analysis of Langchain and Langsmith in Blockchain Technology**\\n\\nI. Introduction\\nA. Brief overview of Langchain and Langsmith\\nB. Thesis statement: Exploring the differences between Langchain and Langsmith\\n\\nII. Langchain\\nA. Definition and purpose\\nB. Key features and characteristics\\nC. Use cases and applications\\nD. Advantages and limitations\\n\\nIII. Langsmith\\nA. Definition and purpose\\nB. Key features and characteristics\\nC. Use cases and applications\\nD. Advantages and limitations\\n\\nIV. Comparison between Langchain and Langsmith\\nA. Technology stack\\nB. Scalability and performance\\nC. Security and privacy\\nD. Adoption and popularity\\nE. Future prospects\\n\\nV. Conclusion\\nA. Recap of key differences between Langchain and Langsmith\\nB. Implications for the future of blockchain technology\\nC. Final thoughts and recommendations\\n\\n**Essay:**\\n\\nBlockchain technology has evolved significantly, giving rise to various innovative solutions such as Langchain and Langsmith. Langchain is a decentralized platform that focuses on smart contracts and programming languages, while Langsmith is a blockchain network emphasizing secure data storage and retrieval mechanisms. This essay delves into the disparities between Langchain and Langsmith, shedding light on their unique characteristics and implications for the blockchain industry.\\n\\nLangchain, at its core, is designed to facilitate smart contract execution and development through a diverse range of programming languages. Its key features include multi-language support, interoperability, and robust security protocols. Use cases of Langchain span across industries such as finance, supply chain management, and healthcare, where automated contract execution is paramount. While Langchain offers flexibility and efficiency in smart contract deployment, it also faces limitations in terms of complexity and potential vulnerabilities in the code.\\n\\nOn the other hand, Langsmith is tailored for secure data storage and retrieval on the blockchain. With a focus on encryption, data integrity, and access control mechanisms, Langsmith ensures that sensitive information remains protected within the network. Industries like data management, legal services, and government sectors benefit from Langsmith's secure data handling capabilities. Despite its robust security features, Langsmith may encounter challenges related to scalability and performance optimization in handling large volumes of data transactions.\\n\\nWhen comparing Langchain and Langsmith, several factors come into play. In terms of technology stack, Langchain prioritizes smart contract languages and execution environments, while Langsmith emphasizes data encryption and access control mechanisms. Scalability and performance differ as Langchain focuses on contract execution speed, whereas Langsmith prioritizes data retrieval efficiency. Security and privacy measures vary, with Langsmith excelling in data protection while Langchain emphasizes secure contract execution. Adoption rates and popularity may favor Langchain due to its widespread use in decentralized applications, but Langsmith's niche focus on data security attracts specific industries seeking enhanced privacy measures.\\n\\nIn conclusion, the distinctions between Langchain and Langsmith highlight the diverse applications and implications of blockchain technology. While Langchain excels in smart contract execution and flexibility, Langsmith stands out for its robust data security features. The future of blockchain technology will likely see a convergence of these technologies, with a greater emphasis on interoperability and enhanced security measures. As the blockchain industry continues to evolve, understanding the nuances between Langchain and Langsmith will be crucial for leveraging their unique strengths in various use cases and applications.\", 'revision_number': 3}}\n",
      "--------------------------------\n"
     ]
    }
   ],
   "source": [
    "thread = {\"configurable\": {\"thread_id\": \"1\"}}\n",
    "for s in graph.stream({\n",
    "    'task': \"what is the difference between langchain and langsmith\",\n",
    "    \"max_revisions\": 2,\n",
    "    \"revision_number\": 1,\n",
    "    \n",
    "}, thread):\n",
    "    print(s)\n",
    "    print('--------------------------------')"
   ]
  },
  {
   "cell_type": "code",
   "execution_count": null,
   "id": "f85a3b52-4f63-4b1e-84e6-00ec90564696",
   "metadata": {},
   "outputs": [],
   "source": []
  }
 ],
 "metadata": {
  "kernelspec": {
   "display_name": "Python 3 (ipykernel)",
   "language": "python",
   "name": "python3"
  },
  "language_info": {
   "codemirror_mode": {
    "name": "ipython",
    "version": 3
   },
   "file_extension": ".py",
   "mimetype": "text/x-python",
   "name": "python",
   "nbconvert_exporter": "python",
   "pygments_lexer": "ipython3",
   "version": "3.11.11"
  }
 },
 "nbformat": 4,
 "nbformat_minor": 5
}
