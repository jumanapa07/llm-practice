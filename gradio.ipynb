{
 "cells": [
  {
   "cell_type": "code",
   "execution_count": 76,
   "id": "c70d241b-a017-4e28-828f-180e998c87d8",
   "metadata": {},
   "outputs": [],
   "source": [
    "import os\n",
    "import requests,json\n",
    "from dotenv import load_dotenv\n",
    "from bs4 import BeautifulSoup\n",
    "from IPython.display import Markdown, display\n",
    "from dotenv import load_dotenv\n",
    "from openai import OpenAI\n",
    "import ollama\n",
    "import gradio as gr"
   ]
  },
  {
   "cell_type": "code",
   "execution_count": 13,
   "id": "22e97b88-7847-4546-b365-d5c67c4eff91",
   "metadata": {},
   "outputs": [],
   "source": [
    "load_dotenv(override=True)\n",
    "api_key=os.getenv('OPENAI_API_KEY')"
   ]
  },
  {
   "cell_type": "code",
   "execution_count": 18,
   "id": "ff761795-b4ef-4a5d-801f-837ce95c10f9",
   "metadata": {},
   "outputs": [],
   "source": [
    "openai=OpenAI()"
   ]
  },
  {
   "cell_type": "code",
   "execution_count": 60,
   "id": "eb3f1891-ec01-489f-a0d9-479f9664d3de",
   "metadata": {},
   "outputs": [],
   "source": [
    "headers = {\n",
    " \"User-Agent\": \"Mozilla/5.0 (Windows NT 10.0; Win64; x64) AppleWebKit/537.36 (KHTML, like Gecko) Chrome/117.0.0.0 Safari/537.36\"\n",
    "}\n",
    "class Website:\n",
    "    def __init__(self,url):\n",
    "        self.url=url\n",
    "        response=requests.get(url,headers=headers)\n",
    "        soup=BeautifulSoup(response.content,'html.parser')\n",
    "        self.title=soup.title\n",
    "        if soup.body:\n",
    "            for irrelevant in soup.body([\"script\", \"style\", \"img\", \"input\"]):\n",
    "                irrelevant.decompose()\n",
    "            self.text=soup.body.get_text(separator='\\n',strip=True)\n",
    "        else:\n",
    "            self.text=\"\"\n",
    "        links=[link.get('href') for link in soup.find_all('a')]\n",
    "        self.links=[link for link in links if link]\n",
    "    def get_contents(self):\n",
    "        return f\"Webpage Title:\\n{self.title} \\n Webpage Content:\\n{self.text}\\n\\n\"\n",
    "        "
   ]
  },
  {
   "cell_type": "code",
   "execution_count": 61,
   "id": "6c5e9e29-9ed3-4729-b8a8-300ed212642a",
   "metadata": {},
   "outputs": [],
   "source": [
    "system_message = \"You are an assistant that analyzes the contents of a company website landing page \\\n",
    "and creates a short brochure about the company for prospective customers, investors and recruits. Respond in markdown.\""
   ]
  },
  {
   "cell_type": "code",
   "execution_count": 62,
   "id": "d5173faf-d49d-414e-a61d-5ea1f5d0f11c",
   "metadata": {},
   "outputs": [],
   "source": [
    "def user_prompt(company_name,url):\n",
    "    prompt =f\"Please generate a company brochure for {company_name}. Here is their landing page:\\n\"\n",
    "    prompt += Website(url).get_contents()\n",
    "    return prompt"
   ]
  },
  {
   "cell_type": "code",
   "execution_count": 69,
   "id": "fddfbee9-81d9-4793-a2a2-41318b44105c",
   "metadata": {},
   "outputs": [],
   "source": [
    "def boucher_gpt(company_name,url):\n",
    "    response=openai.chat.completions.create(\n",
    "        model='gpt-4o-mini',\n",
    "        messages=[\n",
    "           { 'role':'system','content':system_message},\n",
    "            {'role':'user','content':user_prompt(company_name,url)}\n",
    "        ],\n",
    "        stream = True,\n",
    "    )\n",
    "    result=\"\"\n",
    "    for chunk in response:\n",
    "        result += chunk.choices[0].delta.content or \"\"\n",
    "        yield result"
   ]
  },
  {
   "cell_type": "code",
   "execution_count": 70,
   "id": "156d27ac-94ab-4cd7-9c73-7edbc1cadb74",
   "metadata": {},
   "outputs": [
    {
     "data": {
      "text/plain": [
       "<generator object boucher_gpt at 0x0000016087C55B40>"
      ]
     },
     "execution_count": 70,
     "metadata": {},
     "output_type": "execute_result"
    }
   ],
   "source": [
    "boucher_gpt('Imaginist','https://www.imaginist.ai/')"
   ]
  },
  {
   "cell_type": "code",
   "execution_count": 85,
   "id": "263e6a35-df6f-455f-929c-7e962b92bc7e",
   "metadata": {},
   "outputs": [],
   "source": [
    "def broucher_ollama(company_name,url):\n",
    "    response= ollama.chat(\n",
    "        model='llama3.2',\n",
    "        messages=[\n",
    "           { 'role':'system','content':system_message},\n",
    "            {'role':'user','content':user_prompt(company_name,url)}\n",
    "        ],\n",
    "        stream = True,\n",
    "\n",
    "    )\n",
    "    result = \"\"\n",
    "    for chunk in response:\n",
    "        result += chunk['message']['content'] or \"\"\n",
    "        yield result\n",
    "\n",
    "\n"
   ]
  },
  {
   "cell_type": "code",
   "execution_count": 86,
   "id": "1a80b4d2-3472-4daa-ad75-e8a5b043c8a2",
   "metadata": {},
   "outputs": [],
   "source": [
    "def stream_brouchure(company_name,url,model):\n",
    "    if model == 'GPT':\n",
    "        result=boucher_gpt(company_name,url)\n",
    "    elif model == 'llama':\n",
    "        result=broucher_ollama(company_name,url)\n",
    "    else:\n",
    "        raise ValueError(\"Unknown model\")\n",
    "    yield from result\n",
    "        \n",
    "    "
   ]
  },
  {
   "cell_type": "code",
   "execution_count": 87,
   "id": "19b3ca52-d626-46c5-bce0-c80851c80a8e",
   "metadata": {},
   "outputs": [
    {
     "name": "stdout",
     "output_type": "stream",
     "text": [
      "* Running on local URL:  http://127.0.0.1:7880\n",
      "\n",
      "To create a public link, set `share=True` in `launch()`.\n"
     ]
    },
    {
     "data": {
      "text/html": [
       "<div><iframe src=\"http://127.0.0.1:7880/\" width=\"100%\" height=\"500\" allow=\"autoplay; camera; microphone; clipboard-read; clipboard-write;\" frameborder=\"0\" allowfullscreen></iframe></div>"
      ],
      "text/plain": [
       "<IPython.core.display.HTML object>"
      ]
     },
     "metadata": {},
     "output_type": "display_data"
    },
    {
     "data": {
      "text/plain": []
     },
     "execution_count": 87,
     "metadata": {},
     "output_type": "execute_result"
    }
   ],
   "source": [
    "view = gr.Interface(\n",
    "    fn=stream_brouchure,\n",
    "    inputs=[\n",
    "        gr.Textbox(label=\"Company Name:\", lines=6),\n",
    "        gr.Textbox(label=\"Landing page URL including http:// or https://\"),\n",
    "        gr.Dropdown(['GPT','llama'],label=\"Choose model\")\n",
    "    ],\n",
    "    outputs=[gr.Markdown(label=\"Response:\")],\n",
    "    flagging_mode=\"never\"\n",
    ")\n",
    "view.launch()\n"
   ]
  },
  {
   "cell_type": "code",
   "execution_count": null,
   "id": "620ca455-b27b-45ba-9cc3-df257a629134",
   "metadata": {},
   "outputs": [],
   "source": []
  },
  {
   "cell_type": "code",
   "execution_count": null,
   "id": "a230ce0a-bcbb-4f42-9817-2ea92f41cc75",
   "metadata": {},
   "outputs": [],
   "source": []
  }
 ],
 "metadata": {
  "kernelspec": {
   "display_name": "Python 3 (ipykernel)",
   "language": "python",
   "name": "python3"
  },
  "language_info": {
   "codemirror_mode": {
    "name": "ipython",
    "version": 3
   },
   "file_extension": ".py",
   "mimetype": "text/x-python",
   "name": "python",
   "nbconvert_exporter": "python",
   "pygments_lexer": "ipython3",
   "version": "3.11.11"
  }
 },
 "nbformat": 4,
 "nbformat_minor": 5
}
