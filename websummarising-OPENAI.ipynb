{
 "cells": [
  {
   "cell_type": "code",
   "execution_count": 109,
   "id": "9c6042aa-94d4-4f21-af6c-47a626fd7ae2",
   "metadata": {},
   "outputs": [],
   "source": [
    "import os\n",
    "import requests\n",
    "from dotenv import load_dotenv\n",
    "from bs4 import BeautifulSoup\n",
    "from IPython.display import Markdown, display\n",
    "from openai import OpenAI"
   ]
  },
  {
   "cell_type": "code",
   "execution_count": null,
   "id": "6bdb50c1-671c-47c1-a837-477066ee2a54",
   "metadata": {},
   "outputs": [],
   "source": [
    "load_dotenv(override=True)"
   ]
  },
  {
   "cell_type": "code",
   "execution_count": null,
   "id": "4f15bc6d-25ab-45ce-ab17-4103ac98342a",
   "metadata": {},
   "outputs": [],
   "source": [
    "api_key=os.getenv('OPENAI_API_KEY')\n",
    "if not api_key:\n",
    "    print(\"No Api key found\")\n",
    "elif not api_key.startswith('sk-proj-'):\n",
    "    print(\"Not valid api\")\n",
    "else:\n",
    "    print(\"API Key found\")"
   ]
  },
  {
   "cell_type": "code",
   "execution_count": 110,
   "id": "9e19a779-6ed3-4c30-b1a6-fedb90d2b81c",
   "metadata": {},
   "outputs": [],
   "source": [
    "openai=OpenAI()"
   ]
  },
  {
   "cell_type": "code",
   "execution_count": 111,
   "id": "6dde89c8-df4a-472f-9464-214b4b4096e4",
   "metadata": {},
   "outputs": [],
   "source": [
    "headers = {\n",
    " \"User-Agent\": \"Mozilla/5.0 (Windows NT 10.0; Win64; x64) AppleWebKit/537.36 (KHTML, like Gecko) Chrome/117.0.0.0 Safari/537.36\"\n",
    "}\n",
    "class Website:\n",
    "    def __init__(self,url):\n",
    "        self.url=url\n",
    "        response=requests.get(url,headers=headers)\n",
    "        soup=BeautifulSoup(response.content,'html.parser')\n",
    "        self.title=soup.title.string if soup.title else \"No title\"\n",
    "        for irrelevant in soup.body([\"script\", \"style\", \"img\", \"input\"]):\n",
    "            irrelevant.decompose()\n",
    "        self.text=soup.body.get_text(separator=\"\\n\",strip=True)\n",
    "        \n",
    "        "
   ]
  },
  {
   "cell_type": "code",
   "execution_count": 112,
   "id": "cdf42ba5-bcd9-4d24-a33e-a744e6b93b48",
   "metadata": {},
   "outputs": [
    {
     "name": "stdout",
     "output_type": "stream",
     "text": [
      "Imaginist | Intelligent agents running business\n"
     ]
    }
   ],
   "source": [
    "site=Website('https://www.imaginist.ai/')\n",
    "print(site.title)"
   ]
  },
  {
   "cell_type": "code",
   "execution_count": 113,
   "id": "c2cf3508-160e-4a1f-8b05-97df8a4635d7",
   "metadata": {},
   "outputs": [],
   "source": [
    "system_prompt=\"You are an assistant that analyzes the contents of a website \\\n",
    "and provides a short summary, ignoring text that might be navigation related. \\\n",
    "Respond in markdown.\""
   ]
  },
  {
   "cell_type": "code",
   "execution_count": 114,
   "id": "60380584-b08b-4a91-abdc-00d6bf0be059",
   "metadata": {},
   "outputs": [],
   "source": [
    "def user_prompt_for(website):\n",
    "    user_prompt = f\"You are looking at a website titled {website.title}\"\n",
    "    user_prompt += \"\\nThe contents of this website is as follows; \\\n",
    "                    please provide a short summary of this website in markdown. \\\n",
    "                    If it includes news or announcements, then summarize these too.\\n\\n\"\n",
    "    user_prompt += website.text\n",
    "    return user_prompt"
   ]
  },
  {
   "cell_type": "code",
   "execution_count": 120,
   "id": "4cdd8dab-b8ec-4ce7-96e0-ea8a513b51ed",
   "metadata": {},
   "outputs": [],
   "source": [
    "def messages_for(url):\n",
    "    messages=[\n",
    "        {\"role\":\"system\",\n",
    "         \"content\":system_prompt\n",
    "        },\n",
    "        {\"role\":\"user\",\n",
    "         \"content\":user_prompt_for(url)     \n",
    "        }   \n",
    "    ]\n",
    "    return messages\n",
    "    \n",
    "def summary(url):\n",
    "    url=Website(url)\n",
    "    response=openai.chat.completions.create(\n",
    "        model=\"gpt-4o-mini\",\n",
    "        messages=messages_for(url)\n",
    "        )\n",
    "    return response.choices[0].message.content\n",
    "    \n",
    "    "
   ]
  },
  {
   "cell_type": "code",
   "execution_count": 121,
   "id": "3503c637-b835-4ae8-b320-d95afebccaee",
   "metadata": {},
   "outputs": [
    {
     "data": {
      "text/markdown": [
       "# Imaginist | Intelligent Agents Running Business\n",
       "\n",
       "Imaginist is a platform focused on providing intelligent automation solutions for enterprises. It features an Agent Marketplace, allowing businesses to deploy automated workflows efficiently with customizable options. The platform emphasizes the collaboration of specialized domain agents to streamline processes and enhance productivity.\n",
       "\n",
       "## Key Features:\n",
       "- **User-Friendly Interface**: Designed for ease of use, making automation accessible for everyone.\n",
       "- **Custom Agent Creation**: Users can create agents in just a few easy steps, building a knowledge base from various data sources and identifying automation tools.\n",
       "- **Pre-Built Agents**: The platform offers ready-to-use agents available in the Marketplace for performing specialized tasks in collaboration with other agents.\n",
       "- **Enhanced Business Scalability**: Businesses can deploy custom agents quickly, reinforcing collaboration and automation across their operations.\n",
       "\n",
       "The site also suggests that resources and updates will be made available in the near future."
      ],
      "text/plain": [
       "<IPython.core.display.Markdown object>"
      ]
     },
     "metadata": {},
     "output_type": "display_data"
    }
   ],
   "source": [
    "display(Markdown(summary(\"https://www.imaginist.ai/\")))"
   ]
  },
  {
   "cell_type": "markdown",
   "id": "dbbb01fa-d91b-4241-aadd-04010841a529",
   "metadata": {},
   "source": [
    "-----------Using Llama ----------------\n"
   ]
  },
  {
   "cell_type": "code",
   "execution_count": 117,
   "id": "7c64b6ec-34d7-4276-a94f-7274bc85593b",
   "metadata": {},
   "outputs": [],
   "source": [
    "import ollama"
   ]
  },
  {
   "cell_type": "code",
   "execution_count": 118,
   "id": "89f49590-f5cb-4978-ade9-cbd80148e826",
   "metadata": {},
   "outputs": [],
   "source": [
    "def summary_ollama(url):\n",
    "    url=Website(url)\n",
    "    response=ollama.chat(\n",
    "        model=\"llama3.2\",\n",
    "        messages=messages_for(url)\n",
    "        )\n",
    "    return response['message']['content']"
   ]
  },
  {
   "cell_type": "code",
   "execution_count": 119,
   "id": "aeebd8e4-999a-46fc-844f-608b74a03665",
   "metadata": {},
   "outputs": [
    {
     "data": {
      "text/markdown": [
       "# Summary of Imaginist | Intelligent Agents Running Business Website\n",
       "\n",
       "## Overview\n",
       "\n",
       "Imaginist is an intelligent solutions platform for enterprises, offering a readymade solution for deploying automated workflows at scale.\n",
       "\n",
       "### Key Features\n",
       "\n",
       "* Intelligent Automation for Enterprises: Deploy automated workflows using the Agent Marketplace.\n",
       "* Collaboration of agents at work: Specialized domain agents collaborate to automate work.\n",
       "* Automate business usecases: Intuitive and user-friendly interface with pre-built business agents.\n",
       "* Build custom agent in seconds: Easy steps to build intelligent automation at scale.\n",
       "\n",
       "### Benefits\n",
       "\n",
       "* Scale Your Business: Intelligent Automation for Enterprises.\n",
       "* Deploy Custom Agents in Minutes: Secure AI platform with access to enterprise tools sets.\n",
       "\n",
       "## News/Announcements\n",
       "\n",
       "Not found."
      ],
      "text/plain": [
       "<IPython.core.display.Markdown object>"
      ]
     },
     "metadata": {},
     "output_type": "display_data"
    }
   ],
   "source": [
    "display(Markdown(summary_ollama(\"https://www.imaginist.ai/\")))"
   ]
  },
  {
   "cell_type": "code",
   "execution_count": null,
   "id": "3a96f72a-92b1-4c86-b24d-5a64b17fde26",
   "metadata": {},
   "outputs": [],
   "source": []
  }
 ],
 "metadata": {
  "kernelspec": {
   "display_name": "Python 3 (ipykernel)",
   "language": "python",
   "name": "python3"
  },
  "language_info": {
   "codemirror_mode": {
    "name": "ipython",
    "version": 3
   },
   "file_extension": ".py",
   "mimetype": "text/x-python",
   "name": "python",
   "nbconvert_exporter": "python",
   "pygments_lexer": "ipython3",
   "version": "3.11.11"
  }
 },
 "nbformat": 4,
 "nbformat_minor": 5
}
