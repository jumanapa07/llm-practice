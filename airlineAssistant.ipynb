{
 "cells": [
  {
   "cell_type": "code",
   "execution_count": 50,
   "id": "18d63173-c2cc-4611-bf09-998af16c32af",
   "metadata": {},
   "outputs": [],
   "source": [
    "import os,json\n",
    "from dotenv import load_dotenv\n",
    "from openai import OpenAI\n",
    "import gradio as gr"
   ]
  },
  {
   "cell_type": "code",
   "execution_count": 5,
   "id": "9136a741-4f65-432b-8ec2-7e315ab3572c",
   "metadata": {},
   "outputs": [],
   "source": [
    "load_dotenv(override = True)\n",
    "api_key = os.getenv('OPENAI_API_KEY')\n",
    "openai=OpenAI()"
   ]
  },
  {
   "cell_type": "code",
   "execution_count": 10,
   "id": "aaf25834-2176-4ac9-a9a3-f1d20a083a23",
   "metadata": {},
   "outputs": [],
   "source": [
    "ticket_prices = {\"london\": \"$799\", \"paris\": \"$899\", \"tokyo\": \"$1400\", \"berlin\": \"$499\"}\n",
    "\n",
    "def get_ticket_price(destination):\n",
    "    city = destination.lower()\n",
    "    price = ticket_prices.get(city)\n",
    "    return f\"Ticket Price for {city}: {price}\"\n",
    "    "
   ]
  },
  {
   "cell_type": "code",
   "execution_count": 11,
   "id": "0e11a510-8609-434c-8f41-012f1221a5e7",
   "metadata": {},
   "outputs": [
    {
     "data": {
      "text/plain": [
       "'Ticket Price for paris: $899'"
      ]
     },
     "execution_count": 11,
     "metadata": {},
     "output_type": "execute_result"
    }
   ],
   "source": [
    "get_ticket_price('paris')"
   ]
  },
  {
   "cell_type": "code",
   "execution_count": 12,
   "id": "42263569-9a61-4e34-86d5-dbe282297fcb",
   "metadata": {},
   "outputs": [],
   "source": [
    "system_message = \"You are a helpful assistant used for airline services for AIAirline\"\n",
    "system_message += \"Give short, courteous answers, no more than 1 sentence. \"\n",
    "system_message += \"Always be accurate. If you don't know the answer, say so.\""
   ]
  },
  {
   "cell_type": "code",
   "execution_count": 19,
   "id": "e0a303a9-cf2a-423b-821f-0a55c6c24a69",
   "metadata": {},
   "outputs": [],
   "source": [
    "price_function = {\n",
    "    \"name\" : \"get_ticket_price\",\n",
    "    \"description\" : \"Get the price of a return ticket to the destination city. Call this whenever you need to know the ticket price, for example when a customer asks 'How much is a ticket to this city'\",\n",
    "    \"parameters\" : {\n",
    "        \"type\" : \"object\",\n",
    "        \"properties\" : {\n",
    "            \"destination\" : {\n",
    "                \"type\" : \"string\",\n",
    "                \"description\" : \"The city that the customer wants to travel to\",\n",
    "            },\n",
    "        },\n",
    "        \"required\" : [\"destination\"],\n",
    "        \"additionalProperties\": False\n",
    "    }\n",
    "}\n",
    "    "
   ]
  },
  {
   "cell_type": "code",
   "execution_count": 20,
   "id": "59d51784-4945-4a27-8614-714b335c2b44",
   "metadata": {},
   "outputs": [],
   "source": [
    "tools = [ {\"type\" : \"function\", \"function\":price_function}]"
   ]
  },
  {
   "cell_type": "code",
   "execution_count": 53,
   "id": "2e208f81-62e6-48c6-a6f1-8cbf206822f0",
   "metadata": {},
   "outputs": [],
   "source": [
    "def handle_tool_call(message):\n",
    "    tool_calls = message.tool_calls[0]\n",
    "    arguments = json.loads(tool_calls.function.arguments)\n",
    "    city = arguments.get('destination')\n",
    "    price = get_ticket_price(city)\n",
    "    response = {\n",
    "        'role': 'tool',\n",
    "        'content' : json.dumps({'destination':city,'price':price}),\n",
    "        'tool_call_id' : tool_calls.id\n",
    "    }\n",
    "    return response\n",
    "    "
   ]
  },
  {
   "cell_type": "code",
   "execution_count": 54,
   "id": "a8889821-bff2-481f-8f34-a5fe30f4c2e3",
   "metadata": {},
   "outputs": [],
   "source": [
    "def chat(message,history):\n",
    "    messages = [\n",
    "        {\"role\":\"system\",\"content\":system_message}     \n",
    "    ]\n",
    "    messages += history \n",
    "    messages += [{\"role\":\"user\",\"content\":message}]\n",
    "    response = openai.chat.completions.create(\n",
    "        model = 'gpt-4o-mini',\n",
    "        messages = messages,\n",
    "        tools = tools\n",
    "    )\n",
    "    if response.choices[0].finish_reason == \"tool_calls\":\n",
    "        message = response.choices[0].message\n",
    "        response  = handle_tool_call(message)\n",
    "        messages.append(message)\n",
    "        messages.append(response)\n",
    "        response = openai.chat.completions.create(\n",
    "            model = 'gpt-4o-mini',\n",
    "            messages = messages\n",
    "        )\n",
    "    return response.choices[0].message.content\n",
    "\n",
    "    "
   ]
  },
  {
   "cell_type": "code",
   "execution_count": 55,
   "id": "0268419e-c6c2-4dd2-9d70-caffd7bc5454",
   "metadata": {},
   "outputs": [
    {
     "name": "stdout",
     "output_type": "stream",
     "text": [
      "* Running on local URL:  http://127.0.0.1:7874\n",
      "\n",
      "To create a public link, set `share=True` in `launch()`.\n"
     ]
    },
    {
     "data": {
      "text/html": [
       "<div><iframe src=\"http://127.0.0.1:7874/\" width=\"100%\" height=\"500\" allow=\"autoplay; camera; microphone; clipboard-read; clipboard-write;\" frameborder=\"0\" allowfullscreen></iframe></div>"
      ],
      "text/plain": [
       "<IPython.core.display.HTML object>"
      ]
     },
     "metadata": {},
     "output_type": "display_data"
    },
    {
     "data": {
      "text/plain": []
     },
     "execution_count": 55,
     "metadata": {},
     "output_type": "execute_result"
    }
   ],
   "source": [
    "gr.ChatInterface(fn=chat, type=\"messages\").launch()"
   ]
  },
  {
   "cell_type": "code",
   "execution_count": null,
   "id": "e18c8561-06a4-46b2-9cf9-ab4217a9275a",
   "metadata": {},
   "outputs": [],
   "source": []
  }
 ],
 "metadata": {
  "kernelspec": {
   "display_name": "Python 3 (ipykernel)",
   "language": "python",
   "name": "python3"
  },
  "language_info": {
   "codemirror_mode": {
    "name": "ipython",
    "version": 3
   },
   "file_extension": ".py",
   "mimetype": "text/x-python",
   "name": "python",
   "nbconvert_exporter": "python",
   "pygments_lexer": "ipython3",
   "version": "3.11.11"
  }
 },
 "nbformat": 4,
 "nbformat_minor": 5
}
