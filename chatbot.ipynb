{
 "cells": [
  {
   "cell_type": "code",
   "execution_count": 51,
   "id": "d5e43c41-f97e-4a8f-9bc3-5d0e5dea8c75",
   "metadata": {},
   "outputs": [],
   "source": [
    "import os\n",
    "import requests,json\n",
    "from dotenv import load_dotenv\n",
    "from openai import OpenAI\n",
    "import gradio as gr"
   ]
  },
  {
   "cell_type": "code",
   "execution_count": 52,
   "id": "ef14c5ac-0bcd-4a11-8ae0-f65579af3385",
   "metadata": {},
   "outputs": [],
   "source": [
    "load_dotenv(override=True)\n",
    "api_key=os.getenv('OPENAI_API_KEY')"
   ]
  },
  {
   "cell_type": "code",
   "execution_count": 53,
   "id": "ee41d09d-ce25-44c5-a756-5f2e56b6606c",
   "metadata": {},
   "outputs": [],
   "source": [
    "openai=OpenAI()"
   ]
  },
  {
   "cell_type": "code",
   "execution_count": 54,
   "id": "5f015b6b-534c-46d2-80a9-5488fa8d17b6",
   "metadata": {},
   "outputs": [],
   "source": [
    "system_message = \"You are a helpful assistant which helps in creating poems for topic given\""
   ]
  },
  {
   "cell_type": "code",
   "execution_count": 57,
   "id": "0fbc3354-cfe0-4143-a844-4444a2b05f8d",
   "metadata": {},
   "outputs": [],
   "source": [
    "def chat(message,history):\n",
    "    relevant_system_message = system_message\n",
    "    if 'life' in message:\n",
    "        relevant_system_message += \"if the topic is life ,simplify the poem into only 6 lines\"\n",
    "    messages= [\n",
    "        {\"role\":\"system\",\"content\":relevant_system_message}\n",
    "    ]\n",
    "    messages += history\n",
    "    messages.append({\"role\":\"user\",\"content\":message})\n",
    "    response = openai.chat.completions.create(\n",
    "        model = 'gpt-4o-mini',\n",
    "        messages=messages,\n",
    "        stream = True\n",
    "    )\n",
    "    result = \"\"\n",
    "    for chunk in response:\n",
    "        result += chunk.choices[0].delta.content or \"\"\n",
    "        yield result\n"
   ]
  },
  {
   "cell_type": "code",
   "execution_count": 58,
   "id": "4496bb88-0754-405b-934f-3c687e9e3ce9",
   "metadata": {},
   "outputs": [
    {
     "name": "stdout",
     "output_type": "stream",
     "text": [
      "* Running on local URL:  http://127.0.0.1:7871\n",
      "\n",
      "To create a public link, set `share=True` in `launch()`.\n"
     ]
    },
    {
     "data": {
      "text/html": [
       "<div><iframe src=\"http://127.0.0.1:7871/\" width=\"100%\" height=\"500\" allow=\"autoplay; camera; microphone; clipboard-read; clipboard-write;\" frameborder=\"0\" allowfullscreen></iframe></div>"
      ],
      "text/plain": [
       "<IPython.core.display.HTML object>"
      ]
     },
     "metadata": {},
     "output_type": "display_data"
    },
    {
     "data": {
      "text/plain": []
     },
     "execution_count": 58,
     "metadata": {},
     "output_type": "execute_result"
    }
   ],
   "source": [
    "gr.ChatInterface(fn = chat , type = \"messages\").launch()"
   ]
  },
  {
   "cell_type": "code",
   "execution_count": null,
   "id": "8f198320-2350-4148-92d7-ef434392a7f6",
   "metadata": {},
   "outputs": [],
   "source": []
  },
  {
   "cell_type": "code",
   "execution_count": null,
   "id": "3752ddab-9910-48cf-8e09-1d881d592c2d",
   "metadata": {},
   "outputs": [],
   "source": []
  }
 ],
 "metadata": {
  "kernelspec": {
   "display_name": "Python 3 (ipykernel)",
   "language": "python",
   "name": "python3"
  },
  "language_info": {
   "codemirror_mode": {
    "name": "ipython",
    "version": 3
   },
   "file_extension": ".py",
   "mimetype": "text/x-python",
   "name": "python",
   "nbconvert_exporter": "python",
   "pygments_lexer": "ipython3",
   "version": "3.11.11"
  }
 },
 "nbformat": 4,
 "nbformat_minor": 5
}
